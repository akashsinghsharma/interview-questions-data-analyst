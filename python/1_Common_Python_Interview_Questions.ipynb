{
  "nbformat": 4,
  "nbformat_minor": 0,
  "metadata": {
    "colab": {
      "provenance": [],
      "authorship_tag": "ABX9TyMu+a3Z33MA6yGMyXsB+HYd",
      "include_colab_link": true
    },
    "kernelspec": {
      "name": "python3",
      "display_name": "Python 3"
    },
    "language_info": {
      "name": "python"
    }
  },
  "cells": [
    {
      "cell_type": "markdown",
      "metadata": {
        "id": "view-in-github",
        "colab_type": "text"
      },
      "source": [
        "<a href=\"https://colab.research.google.com/github/akashsinghsharma/interview-questions-data-analyst/blob/main/python/1_Common_Python_Interview_Questions.ipynb\" target=\"_parent\"><img src=\"https://colab.research.google.com/assets/colab-badge.svg\" alt=\"Open In Colab\"/></a>"
      ]
    },
    {
      "cell_type": "markdown",
      "source": [
        "Q. Write a Python function to check if a given number is prime."
      ],
      "metadata": {
        "id": "uuIKGQ14EQhb"
      }
    },
    {
      "cell_type": "code",
      "execution_count": null,
      "metadata": {
        "colab": {
          "base_uri": "https://localhost:8080/",
          "height": 35
        },
        "id": "IAESIrZP1pE_",
        "outputId": "7ad4f63b-a120-424d-ca5f-96abed3dfa5e"
      },
      "outputs": [
        {
          "output_type": "execute_result",
          "data": {
            "text/plain": [
              "'This is a prime number'"
            ],
            "application/vnd.google.colaboratory.intrinsic+json": {
              "type": "string"
            }
          },
          "metadata": {},
          "execution_count": 21
        }
      ],
      "source": [
        "## Number with only 2 factors: 1 and itself is prime number\n",
        "\n",
        "def check_prime(num):\n",
        "  x = 'This is not a prime number'\n",
        "\n",
        "  if num > 1:\n",
        "    for i in range(2, num):\n",
        "      if num % i == 0:\n",
        "        x = 'This is not a prime number'\n",
        "        break\n",
        "    else:\n",
        "      x = 'This is a prime number'\n",
        "\n",
        "    return x\n",
        "\n",
        "a = 2\n",
        "check_prime(a)"
      ]
    },
    {
      "cell_type": "code",
      "source": [
        "for i in range(2, 2):\n",
        "  print(i) ## Blank output"
      ],
      "metadata": {
        "id": "GT13dXgdJ2T3"
      },
      "execution_count": null,
      "outputs": []
    },
    {
      "cell_type": "markdown",
      "source": [
        "Note\n",
        "\n",
        "- range(2,2) is empty.\n",
        "- range(n) starts from 0, 1, ... , n-1"
      ],
      "metadata": {
        "id": "0Rk617IQNTiB"
      }
    },
    {
      "cell_type": "markdown",
      "source": [
        "Q. Write a python code to generate Fibonacci sequence up to a given number of terms."
      ],
      "metadata": {
        "id": "YXxjngEZPYkM"
      }
    },
    {
      "cell_type": "code",
      "source": [
        "def fib_generator(n):\n",
        "  fib = [0 , 1]\n",
        "  for i in range(n - 2):\n",
        "    temp = 0\n",
        "    temp = fib[-1] + fib[-2]\n",
        "    fib.append(temp)\n",
        "\n",
        "  return fib\n",
        "\n",
        "fib_generator(10)"
      ],
      "metadata": {
        "colab": {
          "base_uri": "https://localhost:8080/"
        },
        "id": "64cW9raXNBRw",
        "outputId": "bb0f8af1-80aa-49bb-e052-9bc725495195"
      },
      "execution_count": null,
      "outputs": [
        {
          "output_type": "execute_result",
          "data": {
            "text/plain": [
              "[0, 1, 1, 2, 3, 5, 8, 13, 21, 34]"
            ]
          },
          "metadata": {},
          "execution_count": 6
        }
      ]
    },
    {
      "cell_type": "code",
      "source": [
        "## same logic using while loop\n",
        "\n",
        "def fib_generator2(n):\n",
        "\n",
        "  fib_list = [0,1]\n",
        "\n",
        "  while len(fib_list) < n:\n",
        "    next_fib_num = fib_list[-1] + fib_list[-2]\n",
        "    fib_list.append(next_fib_num)\n",
        "\n",
        "  return fib_list\n",
        "\n",
        "fib_generator2(10)"
      ],
      "metadata": {
        "colab": {
          "base_uri": "https://localhost:8080/"
        },
        "id": "ZsNtW_6yP7v7",
        "outputId": "b4d969d6-c8f1-48d8-d3cf-07aa213fe0d1"
      },
      "execution_count": null,
      "outputs": [
        {
          "output_type": "execute_result",
          "data": {
            "text/plain": [
              "[0, 1, 1, 2, 3, 5, 8, 13, 21, 34]"
            ]
          },
          "metadata": {},
          "execution_count": 7
        }
      ]
    },
    {
      "cell_type": "markdown",
      "source": [
        "Q. Write a Python function to check if a given string is a palindrome."
      ],
      "metadata": {
        "id": "4HKQ8LaAn_NN"
      }
    },
    {
      "cell_type": "code",
      "source": [
        "def check_palindrom(input_str):\n",
        "\n",
        "  input_str = input_str.lower().replace(\" \" , \"\")  # this is used if and only if we need to neglect spaces.\n",
        "\n",
        "  if input_str == input_str[::-1]:\n",
        "    return True\n",
        "  else:\n",
        "    return False\n",
        "\n",
        "\n",
        "check_palindrom('madam')\n",
        "check_palindrom('akash')\n",
        "check_palindrom('Race car')"
      ],
      "metadata": {
        "id": "sgFpnqmMkFOQ",
        "colab": {
          "base_uri": "https://localhost:8080/"
        },
        "outputId": "b6f09a6f-45cb-4b43-a6e0-4ed55ccd64d5"
      },
      "execution_count": null,
      "outputs": [
        {
          "output_type": "execute_result",
          "data": {
            "text/plain": [
              "True"
            ]
          },
          "metadata": {},
          "execution_count": 8
        }
      ]
    },
    {
      "cell_type": "markdown",
      "source": [
        "Note\n",
        "- String slicing is available in Python.\n",
        "- String are mutable."
      ],
      "metadata": {
        "id": "AUPVG8RfpTBC"
      }
    },
    {
      "cell_type": "markdown",
      "source": [
        "Q. Write a Python function to reverse a given string."
      ],
      "metadata": {
        "id": "hT0oN3pcpug2"
      }
    },
    {
      "cell_type": "code",
      "source": [
        "def reverse_str(input_str):\n",
        "\n",
        "  return input_str[::-1]\n",
        "\n",
        "\n",
        "reverse_str('akash')"
      ],
      "metadata": {
        "colab": {
          "base_uri": "https://localhost:8080/",
          "height": 35
        },
        "id": "cx_dXuPqodBZ",
        "outputId": "42e76c82-3db1-408f-b6a2-b5132a86105f"
      },
      "execution_count": null,
      "outputs": [
        {
          "output_type": "execute_result",
          "data": {
            "text/plain": [
              "'hsaka'"
            ],
            "application/vnd.google.colaboratory.intrinsic+json": {
              "type": "string"
            }
          },
          "metadata": {},
          "execution_count": 9
        }
      ]
    },
    {
      "cell_type": "markdown",
      "source": [
        "Q. Write a Python function to count the occurrences of each character in a given string."
      ],
      "metadata": {
        "id": "kyROFJoMqBla"
      }
    },
    {
      "cell_type": "code",
      "source": [
        "a = 'akash'\n",
        "l = a.split()\n",
        "l"
      ],
      "metadata": {
        "colab": {
          "base_uri": "https://localhost:8080/"
        },
        "id": "Nu4Bmr3jp9Vd",
        "outputId": "1b79694c-13d1-49e2-867a-d6a439af5352"
      },
      "execution_count": null,
      "outputs": [
        {
          "output_type": "execute_result",
          "data": {
            "text/plain": [
              "['akash']"
            ]
          },
          "metadata": {},
          "execution_count": 14
        }
      ]
    },
    {
      "cell_type": "markdown",
      "source": [
        "Q. Write a Python function to remove duplicate elements from a list."
      ],
      "metadata": {
        "id": "opB4d0c_qbaN"
      }
    },
    {
      "cell_type": "code",
      "source": [],
      "metadata": {
        "id": "kMgHLu9GqOSn"
      },
      "execution_count": null,
      "outputs": []
    }
  ]
}