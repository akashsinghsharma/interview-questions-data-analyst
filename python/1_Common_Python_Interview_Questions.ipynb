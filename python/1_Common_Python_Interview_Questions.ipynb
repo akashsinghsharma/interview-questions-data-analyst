{
  "nbformat": 4,
  "nbformat_minor": 0,
  "metadata": {
    "colab": {
      "provenance": [],
      "authorship_tag": "ABX9TyNbvVKyjnoJR73UNecruyHu",
      "include_colab_link": true
    },
    "kernelspec": {
      "name": "python3",
      "display_name": "Python 3"
    },
    "language_info": {
      "name": "python"
    }
  },
  "cells": [
    {
      "cell_type": "markdown",
      "metadata": {
        "id": "view-in-github",
        "colab_type": "text"
      },
      "source": [
        "<a href=\"https://colab.research.google.com/github/akashsinghsharma/interview-questions-data-analyst/blob/main/python/1_Common_Python_Interview_Questions.ipynb\" target=\"_parent\"><img src=\"https://colab.research.google.com/assets/colab-badge.svg\" alt=\"Open In Colab\"/></a>"
      ]
    },
    {
      "cell_type": "markdown",
      "source": [
        "Q. Write a Python function to check if a given number is prime."
      ],
      "metadata": {
        "id": "uuIKGQ14EQhb"
      }
    },
    {
      "cell_type": "code",
      "execution_count": null,
      "metadata": {
        "colab": {
          "base_uri": "https://localhost:8080/",
          "height": 35
        },
        "id": "IAESIrZP1pE_",
        "outputId": "7ad4f63b-a120-424d-ca5f-96abed3dfa5e"
      },
      "outputs": [
        {
          "output_type": "execute_result",
          "data": {
            "text/plain": [
              "'This is a prime number'"
            ],
            "application/vnd.google.colaboratory.intrinsic+json": {
              "type": "string"
            }
          },
          "metadata": {},
          "execution_count": 21
        }
      ],
      "source": [
        "## Number with only 2 factors: 1 and itself is prime number\n",
        "\n",
        "def check_prime(num):\n",
        "  x = 'This is not a prime number'\n",
        "\n",
        "  if num > 1:\n",
        "    for i in range(2, num):\n",
        "      if num % i == 0:\n",
        "        x = 'This is not a prime number'\n",
        "        break\n",
        "    else:\n",
        "      x = 'This is a prime number'\n",
        "\n",
        "    return x\n",
        "\n",
        "a = 2\n",
        "check_prime(a)"
      ]
    },
    {
      "cell_type": "code",
      "source": [
        "for i in range(2, 2):\n",
        "  print(i) ## Blank output"
      ],
      "metadata": {
        "id": "GT13dXgdJ2T3"
      },
      "execution_count": null,
      "outputs": []
    },
    {
      "cell_type": "markdown",
      "source": [
        "Note\n",
        "\n",
        "- range(2,2) is empty.\n",
        "- range(n) starts from 0, 1, ... , n-1"
      ],
      "metadata": {
        "id": "0Rk617IQNTiB"
      }
    },
    {
      "cell_type": "markdown",
      "source": [
        "Q. Write a python code to generate Fibonacci sequence up to a given number of terms."
      ],
      "metadata": {
        "id": "YXxjngEZPYkM"
      }
    },
    {
      "cell_type": "code",
      "source": [
        "def fib_generator(n):\n",
        "  fib = [0 , 1]\n",
        "  for i in range(n - 2):\n",
        "    temp = 0\n",
        "    temp = fib[-1] + fib[-2]\n",
        "    fib.append(temp)\n",
        "\n",
        "  return fib\n",
        "\n",
        "fib_generator(10)"
      ],
      "metadata": {
        "colab": {
          "base_uri": "https://localhost:8080/"
        },
        "id": "64cW9raXNBRw",
        "outputId": "bb0f8af1-80aa-49bb-e052-9bc725495195"
      },
      "execution_count": null,
      "outputs": [
        {
          "output_type": "execute_result",
          "data": {
            "text/plain": [
              "[0, 1, 1, 2, 3, 5, 8, 13, 21, 34]"
            ]
          },
          "metadata": {},
          "execution_count": 6
        }
      ]
    },
    {
      "cell_type": "code",
      "source": [
        "## same logic using while loop\n",
        "\n",
        "def fib_generator2(n):\n",
        "\n",
        "  fib_list = [0,1]\n",
        "\n",
        "  while len(fib_list) < n:\n",
        "    next_fib_num = fib_list[-1] + fib_list[-2]\n",
        "    fib_list.append(next_fib_num)\n",
        "\n",
        "  return fib_list\n",
        "\n",
        "fib_generator2(10)"
      ],
      "metadata": {
        "colab": {
          "base_uri": "https://localhost:8080/"
        },
        "id": "ZsNtW_6yP7v7",
        "outputId": "b4d969d6-c8f1-48d8-d3cf-07aa213fe0d1"
      },
      "execution_count": null,
      "outputs": [
        {
          "output_type": "execute_result",
          "data": {
            "text/plain": [
              "[0, 1, 1, 2, 3, 5, 8, 13, 21, 34]"
            ]
          },
          "metadata": {},
          "execution_count": 7
        }
      ]
    },
    {
      "cell_type": "code",
      "source": [
        "# Practice 2:\n",
        "\n",
        "def fib_generator3(n):\n",
        "\n",
        "  l = [0,1]\n",
        "\n",
        "  for i in range(n-2):\n",
        "    l.append((l[i] + l[i+1]))\n",
        "\n",
        "  return l\n",
        "\n",
        "fib_generator3(10)"
      ],
      "metadata": {
        "colab": {
          "base_uri": "https://localhost:8080/"
        },
        "id": "OsnahVn59CkN",
        "outputId": "a505030f-226b-4465-cabd-fb5f9b0539b4"
      },
      "execution_count": null,
      "outputs": [
        {
          "output_type": "execute_result",
          "data": {
            "text/plain": [
              "[0, 1, 1, 2, 3, 5, 8, 13, 21, 34]"
            ]
          },
          "metadata": {},
          "execution_count": 5
        }
      ]
    },
    {
      "cell_type": "code",
      "source": [],
      "metadata": {
        "id": "8DrKcpII9C2s"
      },
      "execution_count": null,
      "outputs": []
    },
    {
      "cell_type": "markdown",
      "source": [
        "Q. Write a Python function to check if a given string is a palindrome."
      ],
      "metadata": {
        "id": "4HKQ8LaAn_NN"
      }
    },
    {
      "cell_type": "code",
      "source": [
        "def check_palindrom(input_str):\n",
        "\n",
        "  input_str = input_str.lower().replace(\" \" , \"\")  # this is used if and only if we need to neglect spaces.\n",
        "\n",
        "  if input_str == input_str[::-1]:\n",
        "    return True\n",
        "  else:\n",
        "    return False\n",
        "\n",
        "\n",
        "check_palindrom('madam')\n",
        "check_palindrom('akash')\n",
        "check_palindrom('Race car')"
      ],
      "metadata": {
        "id": "sgFpnqmMkFOQ",
        "colab": {
          "base_uri": "https://localhost:8080/"
        },
        "outputId": "b6f09a6f-45cb-4b43-a6e0-4ed55ccd64d5"
      },
      "execution_count": null,
      "outputs": [
        {
          "output_type": "execute_result",
          "data": {
            "text/plain": [
              "True"
            ]
          },
          "metadata": {},
          "execution_count": 8
        }
      ]
    },
    {
      "cell_type": "markdown",
      "source": [
        "Note\n",
        "- String slicing is available in Python.\n",
        "- String are mutable."
      ],
      "metadata": {
        "id": "AUPVG8RfpTBC"
      }
    },
    {
      "cell_type": "markdown",
      "source": [
        "Q. Write a Python function to reverse a given string."
      ],
      "metadata": {
        "id": "hT0oN3pcpug2"
      }
    },
    {
      "cell_type": "code",
      "source": [
        "def reverse_str(input_str):\n",
        "\n",
        "  return input_str[::-1]\n",
        "\n",
        "\n",
        "reverse_str('akash')"
      ],
      "metadata": {
        "colab": {
          "base_uri": "https://localhost:8080/",
          "height": 35
        },
        "id": "cx_dXuPqodBZ",
        "outputId": "42e76c82-3db1-408f-b6a2-b5132a86105f"
      },
      "execution_count": null,
      "outputs": [
        {
          "output_type": "execute_result",
          "data": {
            "text/plain": [
              "'hsaka'"
            ],
            "application/vnd.google.colaboratory.intrinsic+json": {
              "type": "string"
            }
          },
          "metadata": {},
          "execution_count": 9
        }
      ]
    },
    {
      "cell_type": "markdown",
      "source": [
        "Q. Write a code to reverse a number?"
      ],
      "metadata": {
        "id": "aFr_rFRN8dLf"
      }
    },
    {
      "cell_type": "code",
      "source": [
        "def rev_num(num):\n",
        "\n",
        "  num = str(num)\n",
        "  num = num[::-1]\n",
        "\n",
        "  return int(num)\n",
        "\n",
        "rev_num(453)"
      ],
      "metadata": {
        "colab": {
          "base_uri": "https://localhost:8080/"
        },
        "id": "npU4rQUH8glo",
        "outputId": "ffd18bdb-0dba-44a5-a534-71011cbe8d92"
      },
      "execution_count": null,
      "outputs": [
        {
          "output_type": "execute_result",
          "data": {
            "text/plain": [
              "354"
            ]
          },
          "metadata": {},
          "execution_count": 3
        }
      ]
    },
    {
      "cell_type": "markdown",
      "source": [
        "Q. Write a Python function to count the occurrences of each character in a given string."
      ],
      "metadata": {
        "id": "kyROFJoMqBla"
      }
    },
    {
      "cell_type": "code",
      "source": [
        "a = 'akash'\n",
        "l = a.split()\n",
        "l"
      ],
      "metadata": {
        "colab": {
          "base_uri": "https://localhost:8080/"
        },
        "id": "Nu4Bmr3jp9Vd",
        "outputId": "1b79694c-13d1-49e2-867a-d6a439af5352"
      },
      "execution_count": null,
      "outputs": [
        {
          "output_type": "execute_result",
          "data": {
            "text/plain": [
              "['akash']"
            ]
          },
          "metadata": {},
          "execution_count": 14
        }
      ]
    },
    {
      "cell_type": "markdown",
      "source": [
        "Q. Write a Python function to remove duplicate elements from a list."
      ],
      "metadata": {
        "id": "opB4d0c_qbaN"
      }
    },
    {
      "cell_type": "markdown",
      "source": [
        "Q. Greatest divisor of a number."
      ],
      "metadata": {
        "id": "7tgFOeUdCVu1"
      }
    },
    {
      "cell_type": "code",
      "source": [
        "# method 1:\n",
        "\n",
        "def gcd_finder(n):\n",
        "\n",
        "  l = []\n",
        "  for i in range(n):\n",
        "    l.append(i)\n",
        "    l.reverse()\n",
        "\n",
        "  for i in l:\n",
        "    if i%n == 0:\n",
        "      break\n",
        "      return i\n",
        "\n",
        "    else:\n"
      ],
      "metadata": {
        "id": "kMgHLu9GqOSn"
      },
      "execution_count": null,
      "outputs": []
    },
    {
      "cell_type": "markdown",
      "source": [
        "Q. Write code for GCD."
      ],
      "metadata": {
        "id": "5saVLbXNBYIB"
      }
    },
    {
      "cell_type": "code",
      "source": [
        "## GPT written code:\n",
        "\n",
        "def custom_gcd(a, b):\n",
        "    min_num = min(a, b)\n",
        "\n",
        "    for i in range(min_num, 0, -1):  # Start from min(a, b) and go downward\n",
        "        if a % i == 0 and b % i == 0:\n",
        "            return i\n"
      ],
      "metadata": {
        "id": "9nJW5ThhCo7B"
      },
      "execution_count": null,
      "outputs": []
    },
    {
      "cell_type": "markdown",
      "source": [
        "Q. Write a code ot print 0 to 5 without using for loop."
      ],
      "metadata": {
        "id": "8kr9JKWBXFvq"
      }
    },
    {
      "cell_type": "code",
      "source": [
        "def prin(n):\n",
        "    if n == 0:\n",
        "        return\n",
        "    prin(n - 1)  # First go down to 1\n",
        "    print(n)     # Then print on the way up\n",
        "\n",
        "prin(5)"
      ],
      "metadata": {
        "colab": {
          "base_uri": "https://localhost:8080/"
        },
        "id": "st6Rh4b8UA0p",
        "outputId": "15c63f4a-3b00-405a-f7ba-1f1293faedc8"
      },
      "execution_count": null,
      "outputs": [
        {
          "output_type": "stream",
          "name": "stdout",
          "text": [
            "1\n",
            "2\n",
            "3\n",
            "4\n",
            "5\n"
          ]
        }
      ]
    },
    {
      "cell_type": "markdown",
      "source": [
        "Q. Write code of a Perfect Number?"
      ],
      "metadata": {
        "id": "5g87c7XIWBRe"
      }
    },
    {
      "cell_type": "code",
      "source": [
        "def perfect(n):\n",
        "  div = []\n",
        "  for i in range(1 , n):\n",
        "    if n%i == 0:\n",
        "      div.append(i)\n",
        "\n",
        "  if sum(div) == n:\n",
        "    return \"This is a Perfect Number\"\n",
        "\n",
        "  else:\n",
        "    return \"This was not a Perfect Number\""
      ],
      "metadata": {
        "id": "X76MqGqhVuE5"
      },
      "execution_count": 23,
      "outputs": []
    },
    {
      "cell_type": "code",
      "source": [
        "perfect(6)"
      ],
      "metadata": {
        "colab": {
          "base_uri": "https://localhost:8080/",
          "height": 35
        },
        "id": "zs7S7D-vWydx",
        "outputId": "233b44e2-6416-4029-d226-a108ff7b85e1"
      },
      "execution_count": 24,
      "outputs": [
        {
          "output_type": "execute_result",
          "data": {
            "text/plain": [
              "'This is a Perfect Number'"
            ],
            "application/vnd.google.colaboratory.intrinsic+json": {
              "type": "string"
            }
          },
          "metadata": {},
          "execution_count": 24
        }
      ]
    },
    {
      "cell_type": "markdown",
      "source": [
        "Q. Write code to find perfect number till n = 100?"
      ],
      "metadata": {
        "id": "rNaVtGkEbsGi"
      }
    },
    {
      "cell_type": "code",
      "source": [
        "def perfect_finder(n):\n",
        "  div = []\n",
        "  for i in range(1,n+1):\n",
        "    div_temp = []\n",
        "    for j in range(1,i):\n",
        "      if i%j == 0:\n",
        "        div_temp.append(j)\n",
        "\n",
        "        if sum(div_temp) == j:\n",
        "          div.append(j)\n",
        "\n",
        "        else:\n",
        "          pass\n",
        "\n",
        "    return div"
      ],
      "metadata": {
        "id": "gV-I_xudXfmp"
      },
      "execution_count": 27,
      "outputs": []
    },
    {
      "cell_type": "code",
      "source": [
        "perfect_finder(10)"
      ],
      "metadata": {
        "colab": {
          "base_uri": "https://localhost:8080/"
        },
        "id": "FyF0ByvycyNh",
        "outputId": "3a4a3374-aa3c-4a63-9425-78298056b93d"
      },
      "execution_count": 28,
      "outputs": [
        {
          "output_type": "execute_result",
          "data": {
            "text/plain": [
              "[]"
            ]
          },
          "metadata": {},
          "execution_count": 28
        }
      ]
    },
    {
      "cell_type": "code",
      "source": [],
      "metadata": {
        "id": "hhLMZjxCcz_i"
      },
      "execution_count": null,
      "outputs": []
    }
  ]
}